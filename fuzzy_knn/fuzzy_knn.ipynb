{
 "cells": [
  {
   "cell_type": "code",
   "execution_count": 1,
   "id": "latter-claim",
   "metadata": {},
   "outputs": [],
   "source": [
    "%matplotlib inline\n",
    "import numpy as np\n",
    "from IPython.core.pylabtools import figsize\n",
    "import matplotlib.pyplot as plt\n",
    "import seaborn as sns\n",
    "\n",
    "# reproducibility\n",
    "np.random.seed(0)\n",
    "\n",
    "# plotting parameters\n",
    "plt.style.use('science')\n",
    "plt.rcParams.update({\n",
    "    \"font.size\":18})\n",
    "figsize(8,5)"
   ]
  },
  {
   "cell_type": "markdown",
   "id": "coordinate-blair",
   "metadata": {},
   "source": [
    "# I. Fuzzy K-Nearest Neighbour\n",
    "\n",
    "> One of the difficulties that arises when utilizing this technique is that each of the labeled samples is given equal importance in deciding the class memberships of the pattern, regardless of their \"typicalness\" \n",
    "\n",
    "Using \"fuzzy\" sets we can:\n",
    "- take into account that a point might be atypical of its class\n",
    "- give confidence measures of the classification\n",
    "\n",
    "\n",
    "# II. Crisp vs Fuzzy Sets\n",
    "\n",
    "**Crisp sets**\n",
    "\n",
    "Imagine we have a dataset (or *universe*) $U$ and an individual class of data (or *subset*) $A$.\n",
    "\n",
    "For a datapoint $x$ we can say that it is either in the class $A$ or not like this:\n",
    "\n",
    "$$\n",
    "  u_A(x) =\n",
    "  \\begin{cases}\n",
    "    1, & \\quad x \\in A  \\\\\n",
    "    0, & \\quad x \\notin A \n",
    "  \\end{cases}\n",
    "$$\n",
    "\n",
    "That is to say, either it's in the class or it's not. What if $x$ is really an extreme outlier for the set $A$? In KNN we just set a binary indicator, and don't specify any degree of membership.\n",
    "\n",
    "An example of a \"crisp\" set:\n",
    "\n",
    "$$\n",
    "  u_A(x) =\n",
    "  \\begin{cases}\n",
    "    1, & \\quad x \\leq 5 \\\\\n",
    "    0, & \\quad x \\gt 5  \\\\ \n",
    "  \\end{cases}\n",
    "$$\n",
    "\n",
    "We can visualise this like a step function:"
   ]
  },
  {
   "cell_type": "code",
   "execution_count": 2,
   "id": "improved-tennessee",
   "metadata": {},
   "outputs": [
    {
     "data": {
      "image/png": "[encoded data removed]",
      "text/plain": [
       "<Figure size 576x360 with 1 Axes>"
      ]
     },
     "metadata": {
      "needs_background": "light"
     },
     "output_type": "display_data"
    }
   ],
   "source": [
    "def u(x):\n",
    "    return x <= 5\n",
    "\n",
    "x = np.linspace(0,20,100)\n",
    "y = u(x)\n",
    "\n",
    "fig, ax = plt.subplots()\n",
    "ax.plot(x,y);"
   ]
  },
  {
   "cell_type": "markdown",
   "id": "understood-providence",
   "metadata": {},
   "source": [
    "**Fuzzy sets**\n",
    "\n",
    "Set of real numbers much larger than zero:\n",
    "$$\n",
    "  u(x) =\n",
    "  \\begin{cases}\n",
    "    x^2 / (x^2+1), & \\quad x \\geq 0  \\\\\n",
    "    0, & \\quad x \\leq 0\n",
    "  \\end{cases}\n",
    "$$\n",
    "\n",
    "I think it's helpful to visualise the positive number case:"
   ]
  },
  {
   "cell_type": "code",
   "execution_count": 3,
   "id": "musical-effects",
   "metadata": {},
   "outputs": [
    {
     "data": {
      "image/png": "[encoded data removed]",
      "text/plain": [
       "<Figure size 576x360 with 1 Axes>"
      ]
     },
     "metadata": {
      "needs_background": "light"
     },
     "output_type": "display_data"
    }
   ],
   "source": [
    "def u(x):\n",
    "    return x**2 / (x**2 + 1)\n",
    "\n",
    "x = np.linspace(0,20,100)\n",
    "y = u(x)\n",
    "\n",
    "fig, ax = plt.subplots()\n",
    "ax.plot(x,y)\n",
    "ax.set_xlabel(\"$x$\")\n",
    "ax.set_ylabel(\"$u(x)$\");"
   ]
  },
  {
   "cell_type": "markdown",
   "id": "finished-finder",
   "metadata": {},
   "source": [
    "This gives us two things:\n",
    "1. We can express whether an object is typical or atypical for its class\n",
    "2. We can give degrees of certainty \n",
    "\n",
    "**Fuzzy partitions**\n",
    "\n",
    "> For a set of vectors $\\{ x_1,...,x_n \\}$, a fuzzy partition of these vectors specifies the degree of membership of each vector\n",
    "\n",
    "e.g. 10 is *sort of* bigger than zero, 100 is *definitely* bigger than zero. \n",
    "\n",
    "\n",
    "Setup:\n",
    "- we have $c$ classes\n",
    "- we have $n$ points \n",
    "- we have $u_C(x)$ - the degree of membership of class $C$\n",
    "\n",
    "Our partition is a $c \\times n$ matrix: each **row** is a list of the degrees of membership for each of the $n$ points. \n",
    "\n",
    "We have some constraints:\n",
    "- the sum of each column must be one (e.g. the column for $x_0$ might be $[0.3,0.7]$ for two classes) \n",
    "- the sum of each row should be between one and $n$ (e.g. there are no negative memberships or individual memberships greater than one)\n",
    "\n",
    "Each matrix element of $U$ is therefore: $\\color{red}{u_{ik} = u_i(x_k)}$ - this will come up later."
   ]
  },
  {
   "cell_type": "code",
   "execution_count": 4,
   "id": "equivalent-sociology",
   "metadata": {},
   "outputs": [
    {
     "data": {
      "image/png": "[encoded data removed]",
      "text/plain": [
       "<Figure size 576x360 with 2 Axes>"
      ]
     },
     "metadata": {
      "needs_background": "light"
     },
     "output_type": "display_data"
    }
   ],
   "source": [
    "def u(x):\n",
    "    return x**2 / (x**2 + 1)\n",
    "\n",
    "c = 2  # number of classes\n",
    "n = 20 # number of datapoints\n",
    "\n",
    "# generate data\n",
    "x = np.linspace(0,20,20)\n",
    "\n",
    "# fuzzy partition matrix\n",
    "U = np.zeros((c, n))\n",
    "U[0,:] = u(x) \n",
    "U[1,:] = 1-u(x)\n",
    "\n",
    "sns.heatmap(U, cmap='viridis', alpha=.8);"
   ]
  },
  {
   "cell_type": "markdown",
   "id": "demonstrated-incidence",
   "metadata": {},
   "source": [
    "$x^2 + 1$ is always bigger than $x^2$ - so $u(x)$ can never be bigger than one."
   ]
  },
  {
   "cell_type": "markdown",
   "id": "advance-walter",
   "metadata": {},
   "source": [
    "# III. The KNN Algorithm\n",
    "\n",
    "What does the data look like?"
   ]
  },
  {
   "cell_type": "code",
   "execution_count": 5,
   "id": "breathing-principle",
   "metadata": {},
   "outputs": [
    {
     "data": {
      "image/png": "[encoded data removed]",
      "text/plain": [
       "<Figure size 576x360 with 1 Axes>"
      ]
     },
     "metadata": {
      "needs_background": "light"
     },
     "output_type": "display_data"
    }
   ],
   "source": [
    "n = 20\n",
    "\n",
    "c_0 = np.random.normal([2,2],  1, size=(n,2)) # cluster centered at [2,2]\n",
    "c_1 = np.random.normal([-3,-1],1, size=(n,2)) # cluster centered at [-3,-1]\n",
    "c_2 = np.random.normal([0,-2], 1, size=(n,2)) # cluster centered at [0,-2]\n",
    "\n",
    "y = np.array([\n",
    "    [-2, 0],\n",
    "    [-2, -2.5],\n",
    "    [-.5, 2], \n",
    "    [1, -.5],\n",
    "])\n",
    "\n",
    "colours = {\n",
    "    0 : 'blue',\n",
    "    1 : 'green',\n",
    "    2 : 'orange',\n",
    "}\n",
    "\n",
    "def plot_data():    \n",
    "    fig, ax = plt.subplots()\n",
    "\n",
    "    for i, cluster in enumerate([c_0,c_1,c_2]):\n",
    "        ax.scatter(cluster[:,0], cluster[:,1], color=colours[i], alpha=.6, label=i)\n",
    "\n",
    "    ax.scatter(y[:,0], y[:,1], color='red', marker='s')\n",
    "    ax.legend()\n",
    "    \n",
    "plot_data();"
   ]
  },
  {
   "cell_type": "markdown",
   "id": "shared-bathroom",
   "metadata": {},
   "source": [
    "We can implement the Crisp KNN Algorithm a little more simply than the paper by using a [min heap](https://docs.python.org/3/library/heapq.html)."
   ]
  },
  {
   "cell_type": "code",
   "execution_count": 6,
   "id": "female-reservation",
   "metadata": {},
   "outputs": [],
   "source": [
    "import operator\n",
    "from heapq import heappush, heappop\n",
    "from collections import defaultdict, namedtuple\n",
    "\n",
    "targets = np.concatenate([np.zeros(n), np.ones(n), np.ones(n)*2])\n",
    "X = np.concatenate([c_0, c_1, c_2])\n",
    "\n",
    "# neighbour contains: dist and class\n",
    "Neighbour = namedtuple('Neighbour', 'd c loc')\n",
    "\n",
    "def get_k_nearest_neighbours(y,X,k=3):\n",
    "    n = len(X)\n",
    "    \n",
    "    neighbours = []\n",
    "    \n",
    "    for i in range(n):\n",
    "        x_i = X[i]\n",
    "        \n",
    "        # compute distance from y to x_i\n",
    "        dist = -np.sqrt(abs(x_i[0] - y[0])**2 + abs(x_i[1] - y[1])**2)\n",
    "        heappush(neighbours, Neighbour(dist, targets[i], tuple(x_i)))\n",
    "   \n",
    "        # if we have too many neighbours, remove the furthest \n",
    "        while(len(neighbours) > k):\n",
    "            heappop(neighbours)\n",
    "    return neighbours\n",
    "\n",
    "\n",
    "def crisp_knn(y, X, targets, k=3):\n",
    "    neighbours = get_k_nearest_neighbours(y,X,k)\n",
    "                \n",
    "    # get the classes of the neighbours\n",
    "    classes = defaultdict(int)\n",
    "    for neighbour in neighbours:\n",
    "        classes[neighbour.c] += 1\n",
    "        \n",
    "    # lookup the max occurring class in the dictionary\n",
    "    return int(max(classes.items(), key=operator.itemgetter(1))[0])         "
   ]
  },
  {
   "cell_type": "markdown",
   "id": "sudden-world",
   "metadata": {},
   "source": [
    "Now we can classify our test points:"
   ]
  },
  {
   "cell_type": "code",
   "execution_count": 7,
   "id": "baking-lesbian",
   "metadata": {},
   "outputs": [
    {
     "data": {
      "image/png": "[encoded data removed]",
      "text/plain": [
       "<Figure size 576x360 with 1 Axes>"
      ]
     },
     "metadata": {
      "needs_background": "light"
     },
     "output_type": "display_data"
    }
   ],
   "source": [
    "fig, ax = plt.subplots()\n",
    "\n",
    "# plot the old points\n",
    "for i, cluster in enumerate([c_0,c_1,c_2]):\n",
    "    ax.scatter(cluster[:,0], cluster[:,1], color=colours[i], alpha=.2)\n",
    "\n",
    "# classify and plot the new points\n",
    "for y_i in y:\n",
    "    c = crisp_knn(y_i, X, targets)\n",
    "    ax.scatter(y_i[0], y_i[1], color=colours[c], marker='s')"
   ]
  },
  {
   "cell_type": "markdown",
   "id": "involved-delicious",
   "metadata": {},
   "source": [
    "**The Fuzzy KNN Algorithm**  \n",
    "\n",
    "> Assign membership as a function of the vector's distance from its neighbours\n",
    "\n",
    "The algorithms use the same method to find the neighbours, but now we have an additional function $u_i(x)$ which is defined by:\n",
    "\n",
    "$$\n",
    "u_i(x) = \\frac{\\color{teal}{\\sum_{j=1}^{K} u_{ij}(1/||x - x_j||^{2/(m-1)})}}{\\color{violet}{\\sum_{j=1}^{K} (1/||x - x_j||^{2/(m-1)})}}\n",
    "$$\n",
    "\n",
    "Read this as: the membership amount per class is decided by **the inverse distances from the neighbours and their memberships**.\n",
    "\n",
    "e.g. if vector is close $\\rightarrow$ membership weighted higher, if vector is far $\\rightarrow$ membership weighted lower.\n",
    "\n",
    "Let's break it down.\n",
    "\n",
    "On the left hand side we have:\n",
    "\n",
    "$$\n",
    "u_i(x) = \n",
    "$$\n",
    "\n",
    "Which means we want to calculate the membership of $x$ of class $i$.\n",
    "\n",
    "Now the numerator:\n",
    "\n",
    "$$\n",
    "\\color{teal}{\\sum_{j=1}^{K} u_{ij}(1/||x - x_j||^{2/(m-1)})}\n",
    "$$\n",
    "\n",
    "\n",
    "In code we can think of a $\\sum_{j=1}^{K}$ as:\n"
   ]
  },
  {
   "cell_type": "code",
   "execution_count": 8,
   "id": "specific-estonia",
   "metadata": {},
   "outputs": [],
   "source": [
    "x = [-2, 0]\n",
    "K = 3\n",
    "for j in range(K):\n",
    "    ## do something here\n",
    "    pass"
   ]
  },
  {
   "cell_type": "markdown",
   "id": "beneficial-culture",
   "metadata": {},
   "source": [
    "1. The $||x-x_j||$ part says: what is the distance between this point $x$ and the neighbour $x_j$. In linear algebra terms we call this the *norm*."
   ]
  },
  {
   "cell_type": "code",
   "execution_count": 9,
   "id": "dominant-bulletin",
   "metadata": {},
   "outputs": [
    {
     "name": "stdout",
     "output_type": "stream",
     "text": [
      "1.0\n",
      "2.0\n",
      "1.0\n"
     ]
    }
   ],
   "source": [
    "x = np.array([-2,0])\n",
    "K = 3\n",
    "\n",
    "# if X_ is our set of neighbours\n",
    "X_ = [[-2,-1],[-2,-2],[-3,0]]\n",
    "\n",
    "#sqrt((x[0] - x_j[0])**2 * (x[1] - x_j[1])**2)\n",
    "\n",
    "for j in range(K):\n",
    "    # distance from [-2,0] to X_[j]\n",
    "    print(np.linalg.norm(x - X_[j]))"
   ]
  },
  {
   "cell_type": "markdown",
   "id": "tight-sector",
   "metadata": {},
   "source": [
    "2. The expression $\\color{teal}{2/(m-1)}$ is a *temperature variable* which scales how much we weight the distances. **As $m$ increases we begin to weight all distances equally**. \n",
    "\n",
    "To give you an illustration of what this looks like:"
   ]
  },
  {
   "cell_type": "code",
   "execution_count": 10,
   "id": "incomplete-emission",
   "metadata": {},
   "outputs": [
    {
     "data": {
      "image/png": "[encoded data removed]",
      "text/plain": [
       "<Figure size 576x360 with 1 Axes>"
      ]
     },
     "metadata": {
      "needs_background": "light"
     },
     "output_type": "display_data"
    }
   ],
   "source": [
    "fig, ax = plt.subplots()\n",
    "\n",
    "# imagine these are our norms\n",
    "x = np.linspace(1,10,10) \n",
    "\n",
    "for m in [2,3,4]:\n",
    "    ax.plot(x, x**(2/(m-1)), label=f\"$m={m}$\");\n",
    "    \n",
    "ax.set_xlabel(\"Distance between $x$ and $x_j$\")\n",
    "ax.set_ylabel(\"Temperature scaled distance\")\n",
    "ax.legend();"
   ]
  },
  {
   "cell_type": "markdown",
   "id": "collect-bulgaria",
   "metadata": {},
   "source": [
    "Essentially all this is saying is: the higher you set $m$, the more weight I want to give to closer samples. So if I have two nearest-neighbours, I want to give more importance to the closer of the two.\n",
    "\n",
    "Remember above we stated that $\\color{red}{u_ik = u_i(x_k)}$, and remember how to interpret the entries of the matrix $U$ - they are the **amount of membership of the datapoint $k$ to the class $i$**.\n",
    "\n",
    "We multiply by this quantity to give us a weighting for each point. \n",
    "\n",
    "Let's start by computing the fuzzy membership of each of our training to points to each of the classes. We'll say that membership is defined as distance from the center of the cluster. "
   ]
  },
  {
   "cell_type": "code",
   "execution_count": 11,
   "id": "adopted-peeing",
   "metadata": {},
   "outputs": [
    {
     "data": {
      "text/plain": [
       "[array([2.52676307, 2.09832188]),\n",
       " array([-3.54453107, -1.20272301]),\n",
       " array([ 0.22220974, -1.30437013])]"
      ]
     },
     "execution_count": 11,
     "metadata": {},
     "output_type": "execute_result"
    }
   ],
   "source": [
    "def compute_centers(classes):\n",
    "    centers = []\n",
    "    \n",
    "    for c in classes: \n",
    "        centers.append(np.mean(c, axis=0)) # axis=0 => keep them as vectors\n",
    "\n",
    "    return centers\n",
    "\n",
    "centers = compute_centers([c_0,c_1,c_2])\n",
    "centers"
   ]
  },
  {
   "cell_type": "markdown",
   "id": "bridal-livestock",
   "metadata": {},
   "source": [
    "This is roughly in line with what we were expecting, since we generated the clusters ourselves to be centred at:\n",
    "\n",
    "```\n",
    "[2,2]\n",
    "[-3,-1]\n",
    "[0,-2]\n",
    "```\n",
    "\n",
    "Now for every point in the training set let's compute the distance from the center of its class, and use that as its **membership**. We'll use the same formula provided at the start of the paper:\n",
    "\n",
    "$$\n",
    "  u(x) =\n",
    "  \\begin{cases}\n",
    "    x^2 / (x^2+1), & \\quad x \\gt 0  \\\\\n",
    "    0, & \\quad x \\leq 0\n",
    "  \\end{cases}\n",
    "$$"
   ]
  },
  {
   "cell_type": "code",
   "execution_count": 12,
   "id": "possible-vehicle",
   "metadata": {},
   "outputs": [],
   "source": [
    "def compute_memberships(X, targets, centers):\n",
    "    classes = set(targets)\n",
    "    \n",
    "    # membership will be a dictionary:\n",
    "    #      point : [mem_0, mem_1, mem_2]\n",
    "    \n",
    "    memberships = defaultdict(list)\n",
    "    \n",
    "    for c, center in zip(classes, centers):\n",
    "        for point in X:\n",
    "            dist = 1/np.linalg.norm(point - center)    \n",
    "            memberships[(point[0], point[1])].append(dist)\n",
    "        \n",
    "    return memberships\n",
    "\n",
    "memberships = compute_memberships(X, targets, centers)"
   ]
  },
  {
   "cell_type": "markdown",
   "id": "adopted-commonwealth",
   "metadata": {},
   "source": [
    "So you can see that we're giving higher precedence to whichever class the point `[1,1]` belongs to, and less precedence to whichever class `[3,3]` belongs to.\n",
    "\n",
    "Now the denominator:\n",
    "\n",
    "We divide this quantity by:\n",
    "$$\n",
    "\\color{violet}{\\sum_{j=1}^{K} (1/||x - x_j||^{2/(m-1)})}\n",
    "$$\n",
    "\n",
    "This is just the temperature scaled distance, without taking into account membership.\n",
    "\n",
    "So overall we could write our expression as:\n",
    "\n",
    "$$\n",
    "\\text{membership of } x \\text{ to class } i = \\frac{\\color{teal}{\\sum (\\text{membership of neighbour}\\times \\text{distance})}}{\\color{violet}{\\sum \\text{distance}}}\n",
    "$$"
   ]
  },
  {
   "cell_type": "code",
   "execution_count": 13,
   "id": "flying-uganda",
   "metadata": {},
   "outputs": [
    {
     "name": "stdout",
     "output_type": "stream",
     "text": [
      "[-2.  0.] : {0.0: 0.2170078456917917, 1.0: 0.5051693181421858, 2.0: 0.5033568820206836}\n",
      "[-2.  -2.5] : {0.0: 0.16152682301409316, 1.0: 0.5747536656802618, 2.0: 0.42702043711024446}\n",
      "[-0.5  2. ] : {0.0: 0.3679379573133612, 1.0: 0.21323900958740546, 2.0: 0.2816943578080203}\n",
      "[ 1.  -0.5] : {0.0: 0.3691741742246313, 1.0: 0.2117908717911093, 2.0: 1.012572268364658}\n"
     ]
    }
   ],
   "source": [
    "# neighbour contains: dist and class\n",
    "Neighbour = namedtuple('Neighbour', 'd c loc')\n",
    "\n",
    "def fuzzy_knn(y, X, targets, memberships, k=3):\n",
    "    neighbours = get_k_nearest_neighbours(y, X, k)\n",
    "    \n",
    "    class_memberships = {}\n",
    "    \n",
    "    m = 2\n",
    "\n",
    "    for t in set(targets):\n",
    "        den = 0\n",
    "        for neighbour in neighbours:\n",
    "            dist = np.linalg.norm(y - neighbour.loc)\n",
    "            den += 1 / (dist ** (2 / (m-1)))\n",
    "\n",
    "        neighbours_weights = []\n",
    "        \n",
    "        for neighbour in neighbours:\n",
    "            dist = np.linalg.norm(y - neighbour.loc)\n",
    "            num = (memberships[neighbour.loc][int(t)]) / (dist ** (2 / (m-1)))\n",
    "            class_membership = num/den\n",
    "            neighbours_weights.append(class_membership)\n",
    "            \n",
    "        class_memberships[t] = np.sum(neighbours_weights)\n",
    "\n",
    "    return class_memberships\n",
    "\n",
    "memberships = compute_memberships(X, targets, centers)\n",
    "\n",
    "for y_i in y:\n",
    "    print(f\"{y_i} : {fuzzy_knn(y_i, X, targets, memberships)}\")"
   ]
  },
  {
   "cell_type": "code",
   "execution_count": 14,
   "id": "allied-switch",
   "metadata": {},
   "outputs": [
    {
     "data": {
      "image/png": "[encoded data removed]",
      "text/plain": [
       "<Figure size 576x360 with 1 Axes>"
      ]
     },
     "metadata": {
      "needs_background": "light"
     },
     "output_type": "display_data"
    }
   ],
   "source": [
    "plot_data();"
   ]
  },
  {
   "cell_type": "markdown",
   "id": "precious-notebook",
   "metadata": {},
   "source": [
    "## Results\n",
    "\n",
    "They make use of the Iris dataset, which has become something of a classic classification dataset. For reference, it looks like this:"
   ]
  },
  {
   "cell_type": "code",
   "execution_count": 15,
   "id": "capable-integer",
   "metadata": {},
   "outputs": [
    {
     "data": {
      "text/html": [
       "<div>\n",
       "<style scoped>\n",
       "    .dataframe tbody tr th:only-of-type {\n",
       "        vertical-align: middle;\n",
       "    }\n",
       "\n",
       "    .dataframe tbody tr th {\n",
       "        vertical-align: top;\n",
       "    }\n",
       "\n",
       "    .dataframe thead th {\n",
       "        text-align: right;\n",
       "    }\n",
       "</style>\n",
       "<table border=\"1\" class=\"dataframe\">\n",
       "  <thead>\n",
       "    <tr style=\"text-align: right;\">\n",
       "      <th></th>\n",
       "      <th>sepal length (cm)</th>\n",
       "      <th>sepal width (cm)</th>\n",
       "      <th>petal length (cm)</th>\n",
       "      <th>petal width (cm)</th>\n",
       "    </tr>\n",
       "  </thead>\n",
       "  <tbody>\n",
       "    <tr>\n",
       "      <th>0</th>\n",
       "      <td>5.1</td>\n",
       "      <td>3.5</td>\n",
       "      <td>1.4</td>\n",
       "      <td>0.2</td>\n",
       "    </tr>\n",
       "    <tr>\n",
       "      <th>1</th>\n",
       "      <td>4.9</td>\n",
       "      <td>3.0</td>\n",
       "      <td>1.4</td>\n",
       "      <td>0.2</td>\n",
       "    </tr>\n",
       "    <tr>\n",
       "      <th>2</th>\n",
       "      <td>4.7</td>\n",
       "      <td>3.2</td>\n",
       "      <td>1.3</td>\n",
       "      <td>0.2</td>\n",
       "    </tr>\n",
       "    <tr>\n",
       "      <th>3</th>\n",
       "      <td>4.6</td>\n",
       "      <td>3.1</td>\n",
       "      <td>1.5</td>\n",
       "      <td>0.2</td>\n",
       "    </tr>\n",
       "    <tr>\n",
       "      <th>4</th>\n",
       "      <td>5.0</td>\n",
       "      <td>3.6</td>\n",
       "      <td>1.4</td>\n",
       "      <td>0.2</td>\n",
       "    </tr>\n",
       "    <tr>\n",
       "      <th>...</th>\n",
       "      <td>...</td>\n",
       "      <td>...</td>\n",
       "      <td>...</td>\n",
       "      <td>...</td>\n",
       "    </tr>\n",
       "    <tr>\n",
       "      <th>145</th>\n",
       "      <td>6.7</td>\n",
       "      <td>3.0</td>\n",
       "      <td>5.2</td>\n",
       "      <td>2.3</td>\n",
       "    </tr>\n",
       "    <tr>\n",
       "      <th>146</th>\n",
       "      <td>6.3</td>\n",
       "      <td>2.5</td>\n",
       "      <td>5.0</td>\n",
       "      <td>1.9</td>\n",
       "    </tr>\n",
       "    <tr>\n",
       "      <th>147</th>\n",
       "      <td>6.5</td>\n",
       "      <td>3.0</td>\n",
       "      <td>5.2</td>\n",
       "      <td>2.0</td>\n",
       "    </tr>\n",
       "    <tr>\n",
       "      <th>148</th>\n",
       "      <td>6.2</td>\n",
       "      <td>3.4</td>\n",
       "      <td>5.4</td>\n",
       "      <td>2.3</td>\n",
       "    </tr>\n",
       "    <tr>\n",
       "      <th>149</th>\n",
       "      <td>5.9</td>\n",
       "      <td>3.0</td>\n",
       "      <td>5.1</td>\n",
       "      <td>1.8</td>\n",
       "    </tr>\n",
       "  </tbody>\n",
       "</table>\n",
       "<p>150 rows × 4 columns</p>\n",
       "</div>"
      ],
      "text/plain": [
       "     sepal length (cm)  sepal width (cm)  petal length (cm)  petal width (cm)\n",
       "0                  5.1               3.5                1.4               0.2\n",
       "1                  4.9               3.0                1.4               0.2\n",
       "2                  4.7               3.2                1.3               0.2\n",
       "3                  4.6               3.1                1.5               0.2\n",
       "4                  5.0               3.6                1.4               0.2\n",
       "..                 ...               ...                ...               ...\n",
       "145                6.7               3.0                5.2               2.3\n",
       "146                6.3               2.5                5.0               1.9\n",
       "147                6.5               3.0                5.2               2.0\n",
       "148                6.2               3.4                5.4               2.3\n",
       "149                5.9               3.0                5.1               1.8\n",
       "\n",
       "[150 rows x 4 columns]"
      ]
     },
     "execution_count": 15,
     "metadata": {},
     "output_type": "execute_result"
    }
   ],
   "source": [
    "from sklearn.datasets import load_iris\n",
    "import pandas as pd \n",
    "\n",
    "data = load_iris()\n",
    "df = pd.DataFrame(data.data, columns=data.feature_names)\n",
    "df"
   ]
  }
 ],
 "metadata": {
  "kernelspec": {
   "display_name": "Python 3",
   "language": "python",
   "name": "python3"
  },
  "language_info": {
   "codemirror_mode": {
    "name": "ipython",
    "version": 3
   },
   "file_extension": ".py",
   "mimetype": "text/x-python",
   "name": "python",
   "nbconvert_exporter": "python",
   "pygments_lexer": "ipython3",
   "version": "3.8.6"
  }
 },
 "nbformat": 4,
 "nbformat_minor": 5
}
