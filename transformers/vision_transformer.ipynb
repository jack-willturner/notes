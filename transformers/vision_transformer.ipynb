{
 "cells": [
  {
   "cell_type": "markdown",
   "id": "assumed-process",
   "metadata": {},
   "source": [
    "# Vision Transformer\n",
    "\n",
    "This is mostly a verbose re-implementation of [this repo](https://github.com/lucidrains/vit-pytorch) so that I can picture how the forward pass works in my head."
   ]
  },
  {
   "cell_type": "code",
   "execution_count": 2,
   "id": "casual-twist",
   "metadata": {},
   "outputs": [],
   "source": [
    "import torch\n",
    "import torch.nn as nn\n",
    "from torchprofile import profile_macs\n",
    "\n",
    "torch.manual_seed(1);"
   ]
  },
  {
   "cell_type": "markdown",
   "id": "waiting-opening",
   "metadata": {},
   "source": [
    "### Step 1: Flatten the input image into a vectors of patches"
   ]
  },
  {
   "cell_type": "code",
   "execution_count": 3,
   "id": "partial-monroe",
   "metadata": {},
   "outputs": [
    {
     "name": "stdout",
     "output_type": "stream",
     "text": [
      "torch.Size([1, 3, 224, 224]) => torch.Size([1, 49, 3072])\n"
     ]
    }
   ],
   "source": [
    "channels = 3\n",
    "image_size = 224\n",
    "patch_size = 32\n",
    "\n",
    "x = torch.rand((1,channels,image_size,image_size))\n",
    "\n",
    "num_patches = (image_size // patch_size) ** 2\n",
    "patch_dim = channels * patch_size ** 2\n",
    "\n",
    "input_size = x.size()\n",
    "\n",
    "x = x.reshape((1,num_patches,patch_dim))\n",
    "\n",
    "print(f\"{input_size} => {x.size()}\")"
   ]
  },
  {
   "cell_type": "markdown",
   "id": "beautiful-discrimination",
   "metadata": {},
   "source": [
    "### Step 2: Linear Projection"
   ]
  },
  {
   "cell_type": "code",
   "execution_count": 4,
   "id": "balanced-conversation",
   "metadata": {
    "scrolled": true
   },
   "outputs": [
    {
     "data": {
      "text/plain": [
       "torch.Size([1, 49, 128])"
      ]
     },
     "execution_count": 4,
     "metadata": {},
     "output_type": "execute_result"
    }
   ],
   "source": [
    "dim = 128\n",
    "linear_projection = nn.Linear(patch_dim, dim)\n",
    "\n",
    "x = linear_projection(x)\n",
    "x.size()"
   ]
  },
  {
   "cell_type": "markdown",
   "id": "greater-dependence",
   "metadata": {},
   "source": [
    "### Step 3: Add class token"
   ]
  },
  {
   "cell_type": "code",
   "execution_count": 5,
   "id": "faced-playlist",
   "metadata": {},
   "outputs": [
    {
     "data": {
      "text/plain": [
       "torch.Size([1, 50, 128])"
      ]
     },
     "execution_count": 5,
     "metadata": {},
     "output_type": "execute_result"
    }
   ],
   "source": [
    "# if batch size is greater than one then you need a repeat in here\n",
    "class_tokens = nn.Parameter(torch.randn(1, 1, dim))\n",
    "\n",
    "x = torch.cat((class_tokens, x), dim=1)\n",
    "x.size()"
   ]
  },
  {
   "cell_type": "markdown",
   "id": "varying-california",
   "metadata": {},
   "source": [
    "### Step 4: Add positional encoding"
   ]
  },
  {
   "cell_type": "code",
   "execution_count": 6,
   "id": "acquired-tulsa",
   "metadata": {},
   "outputs": [
    {
     "data": {
      "text/plain": [
       "torch.Size([1, 50, 128])"
      ]
     },
     "execution_count": 6,
     "metadata": {},
     "output_type": "execute_result"
    }
   ],
   "source": [
    "# + 1 because we have the class tokens\n",
    "pos_embedding = nn.Parameter(torch.randn(1, num_patches+1, dim))\n",
    "pos_embedding.size()"
   ]
  },
  {
   "cell_type": "code",
   "execution_count": 7,
   "id": "another-monaco",
   "metadata": {},
   "outputs": [
    {
     "data": {
      "text/plain": [
       "torch.Size([1, 50, 128])"
      ]
     },
     "execution_count": 7,
     "metadata": {},
     "output_type": "execute_result"
    }
   ],
   "source": [
    "x += pos_embedding\n",
    "x.size()"
   ]
  },
  {
   "cell_type": "markdown",
   "id": "realistic-cursor",
   "metadata": {},
   "source": [
    "### Step 5: Pass through the Transformer encoder\n",
    "\n",
    "The Transformer is comprised of $L$ layers of multi-headed self attention followed by an MLP. \n",
    "\n",
    "The attention module looks like this:\n",
    "1. Using a linear layer, project the input patches ($50 \\times 128$) into $Q,K,V$ matrices each of size $128 \\times D$ where $D$ is a dim of our choice (in the paper it's 64).\n",
    "2. Compute the scaled dot product of $Q$ and $K^\\top$, scaled by the dimension $D$.\n",
    "3. Softmax (2) and multiply by $V$\n",
    "\n",
    "In the Multi-headed Self Attention (MSA) module there are $H$ heads, which we downscale via another matrix $W_o$.\n",
    "\n",
    "I struggled to picture the sizes of these so I drew a picture:\n",
    "\n",
    "![](attention.png)\n",
    "\n",
    "Here's how we implement MSA and the MLP:"
   ]
  },
  {
   "cell_type": "code",
   "execution_count": 8,
   "id": "alternative-steel",
   "metadata": {},
   "outputs": [],
   "source": [
    "class MSA(nn.Module):\n",
    "    def __init__(self, n_heads=8, d_k=64, dim=128, layers=12):\n",
    "        super().__init__()\n",
    "        self.n_heads = n_heads\n",
    "        self.d_k = d_k\n",
    "        \n",
    "        self.projection = nn.Linear(dim, 3*d_k*n_heads)\n",
    "        self.downscale = nn.Linear(d_k*n_heads, dim)\n",
    "        \n",
    "    def forward(self, x):\n",
    "        b = x.size()[0] # get batch size\n",
    "        \n",
    "        # project x into Q, K, V matrices\n",
    "        W = self.projection(x).chunk(3, dim=-1)\n",
    "        \n",
    "        # reshape into matrices of size (n_heads, patches, d_k)\n",
    "        Q,K,V = map(lambda t: t.reshape((b, self.n_heads, -1, self.d_k)), W)\n",
    "        \n",
    "        # get the number of patches\n",
    "        _, _, p, _ = K.size()\n",
    "        \n",
    "        # do the attention equation\n",
    "        zs = torch.matmul(torch.softmax((Q @ K.permute((0,1,3,2))) / \n",
    "                                            self.d_k**-0.5, dim=-1), V)\n",
    "        \n",
    "        # concatenate the outputs of each head \n",
    "        zs = zs.reshape(b, p, (self.n_heads*self.d_k))\n",
    "        \n",
    "        # project through the downscaling layer \n",
    "        return self.downscale(zs)\n",
    "    \n",
    "class MLP(nn.Module):\n",
    "    def __init__(self, dim, hidden_dim):\n",
    "        super().__init__()\n",
    "        self.net = nn.Sequential(\n",
    "            nn.Linear(dim, hidden_dim),\n",
    "            nn.GELU(),\n",
    "            nn.Linear(hidden_dim, dim),\n",
    "        )\n",
    "\n",
    "    def forward(self, x):\n",
    "        return self.net(x)"
   ]
  },
  {
   "cell_type": "markdown",
   "id": "incorporated-warning",
   "metadata": {},
   "source": [
    "To collate this into a transformer we need a few more bits and bobs (these are lifted directly from [here](https://github.com/lucidrains/vit-pytorch)."
   ]
  },
  {
   "cell_type": "code",
   "execution_count": 9,
   "id": "linear-africa",
   "metadata": {},
   "outputs": [
    {
     "data": {
      "text/plain": [
       "torch.Size([1, 50, 128])"
      ]
     },
     "execution_count": 9,
     "metadata": {},
     "output_type": "execute_result"
    }
   ],
   "source": [
    "class Residual(nn.Module):\n",
    "    def __init__(self, fn):\n",
    "        super().__init__()\n",
    "        self.fn = fn\n",
    "    def forward(self, x, **kwargs):\n",
    "        return self.fn(x, **kwargs) + x\n",
    "\n",
    "class PreNorm(nn.Module):\n",
    "    def __init__(self, dim, fn):\n",
    "        super().__init__()\n",
    "        self.norm = nn.LayerNorm(dim)\n",
    "        self.fn = fn\n",
    "    def forward(self, x, **kwargs):\n",
    "        return self.fn(self.norm(x), **kwargs)\n",
    "    \n",
    "class TransformerEncoder(nn.Module):\n",
    "    def __init__(self, dim, depth=12, heads=8, dim_head=64, mlp_dim=128):\n",
    "        super().__init__()\n",
    "        self.layers = nn.ModuleList([])\n",
    "        for _ in range(depth):\n",
    "            self.layers.append(nn.ModuleList([\n",
    "                Residual(PreNorm(dim, MSA(n_heads = heads, d_k=dim_head))),\n",
    "                Residual(PreNorm(dim, MLP(dim, mlp_dim)))\n",
    "            ]))\n",
    "            \n",
    "    def forward(self, x, mask = None):\n",
    "        for attn, ff in self.layers:\n",
    "            x = attn(x)\n",
    "            x = ff(x)\n",
    "        return x\n",
    "\n",
    "transformer = TransformerEncoder(dim=128)\n",
    "\n",
    "out = transformer(x)\n",
    "out.size()"
   ]
  },
  {
   "cell_type": "markdown",
   "id": "saved-optimization",
   "metadata": {},
   "source": [
    "### Step 5: Extract class prediction from attention\n",
    "\n",
    "Via a small MLP:"
   ]
  },
  {
   "cell_type": "code",
   "execution_count": 10,
   "id": "blond-latest",
   "metadata": {},
   "outputs": [
    {
     "data": {
      "text/plain": [
       "tensor([[-0.1783, -0.3554,  0.6473, -0.5952, -0.3453,  0.5627,  0.1692,  0.3190,\n",
       "          0.6042, -0.3114]], grad_fn=<AddmmBackward>)"
      ]
     },
     "execution_count": 10,
     "metadata": {},
     "output_type": "execute_result"
    }
   ],
   "source": [
    "dim = 128\n",
    "num_classes = 10\n",
    "\n",
    "# just get the class token\n",
    "out = out[:, 0]\n",
    "\n",
    "mlp_head = nn.Sequential(\n",
    "            nn.LayerNorm(dim),\n",
    "            nn.Linear(dim, num_classes))\n",
    "\n",
    "mlp_head(out)"
   ]
  },
  {
   "cell_type": "markdown",
   "id": "beginning-emission",
   "metadata": {},
   "source": [
    "## Putting it all together"
   ]
  },
  {
   "cell_type": "code",
   "execution_count": 20,
   "id": "bridal-adjustment",
   "metadata": {
    "scrolled": true
   },
   "outputs": [
    {
     "data": {
      "image/png": "[encoded data removed]",
      "text/plain": [
       "<Figure size 432x288 with 4 Axes>"
      ]
     },
     "metadata": {
      "needs_background": "light"
     },
     "output_type": "display_data"
    }
   ],
   "source": [
    "import matplotlib.pyplot as plt\n",
    "\n",
    "msa = MSA(n_heads=8, d_k=64, dim=128, layers=12)\n",
    "\n",
    "heads = [1,2,4,8]\n",
    "d_k   = [16,32,64,128]\n",
    "dim   = [16,32,64,128]\n",
    "layers =[1,2,4,8]\n",
    "\n",
    "things_to_scale = {\n",
    "    'heads': heads,\n",
    "    'd_k' : d_k,\n",
    "    'dim' : dim,\n",
    "    'layers': layers,\n",
    "}\n",
    "\n",
    "fig, axs = plt.subplots(1,4 )\n",
    "\n",
    "axs = axs.ravel()\n",
    "\n",
    "inputs = torch.randn((1, 50, 128))\n",
    "\n",
    "def profile_macs(msa, inps):\n",
    "    params, ops = 0, 0\n",
    "    \n",
    "    params += torch.numel(msa.projection.weight)\n",
    "    params += torch.numel(msa.downscale.weight) \n",
    "    \n",
    "    return params\n",
    "    \n",
    "for ax, thing_to_scale in zip(axs, things_to_scale.keys()):\n",
    "    \n",
    "    ax.set_title(thing_to_scale)\n",
    "    \n",
    "    opts = things_to_scale[thing_to_scale]\n",
    "    \n",
    "    if thing_to_scale == 'heads':\n",
    "        y = []\n",
    "        for opt in opts:\n",
    "            msa = MSA(n_heads=opt)\n",
    "            macs = profile_macs(msa, inputs)\n",
    "            y.append(macs)\n",
    "        \n",
    "        ax.plot(opts, y, marker='o')\n",
    "    elif thing_to_scale == 'd_k':\n",
    "        y = []\n",
    "        for opt in opts:\n",
    "            msa = MSA(d_k=opt)\n",
    "            macs = profile_macs(msa, inputs)\n",
    "            y.append(macs)\n",
    "        \n",
    "        ax.plot(opts, y, marker='o')\n",
    "    elif thing_to_scale == 'dim':\n",
    "        y = []\n",
    "        for opt in opts:\n",
    "            msa = MSA(dim=opt)\n",
    "            macs = profile_macs(msa, inputs)\n",
    "            y.append(macs)\n",
    "        \n",
    "        ax.plot(opts, y, marker='o')\n",
    "    else:\n",
    "        y = []\n",
    "        for opt in opts:\n",
    "            msa = MSA(layers=opt)\n",
    "            macs = profile_macs(msa, inputs)\n",
    "            y.append(macs)\n",
    "        \n",
    "        ax.plot(opts, y, marker='o')\n"
   ]
  },
  {
   "cell_type": "code",
   "execution_count": null,
   "id": "union-abraham",
   "metadata": {},
   "outputs": [],
   "source": []
  }
 ],
 "metadata": {
  "kernelspec": {
   "display_name": "Python 3",
   "language": "python",
   "name": "python3"
  },
  "language_info": {
   "codemirror_mode": {
    "name": "ipython",
    "version": 3
   },
   "file_extension": ".py",
   "mimetype": "text/x-python",
   "name": "python",
   "nbconvert_exporter": "python",
   "pygments_lexer": "ipython3",
   "version": "3.8.6"
  }
 },
 "nbformat": 4,
 "nbformat_minor": 5
}
