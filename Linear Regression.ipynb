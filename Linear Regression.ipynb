{
 "cells": [
  {
   "cell_type": "code",
   "execution_count": 1,
   "metadata": {
    "ExecuteTime": {
     "end_time": "2020-02-11T12:20:48.603689Z",
     "start_time": "2020-02-11T12:20:47.923185Z"
    }
   },
   "outputs": [],
   "source": [
    "import numpy as np\n",
    "import matplotlib.pyplot as plt\n",
    "plt.style.use('seaborn')\n",
    "\n",
    "np.random.seed(5)"
   ]
  },
  {
   "cell_type": "markdown",
   "metadata": {},
   "source": [
    "Let's start by generating some data."
   ]
  },
  {
   "cell_type": "code",
   "execution_count": 5,
   "metadata": {
    "ExecuteTime": {
     "end_time": "2020-02-11T12:21:59.603853Z",
     "start_time": "2020-02-11T12:21:59.481566Z"
    }
   },
   "outputs": [
    {
     "data": {
      "image/png": "[encoded data removed]",
      "text/plain": [
       "<Figure size 576x288 with 1 Axes>"
      ]
     },
     "metadata": {},
     "output_type": "display_data"
    }
   ],
   "source": [
    "def linear_map(w1, w2, x):\n",
    "    return w1 * x + w2\n",
    "\n",
    "def data_split(x, y):\n",
    "\n",
    "    train_inds = np.random.choice(list(range(len(x))), 20, replace=False)\n",
    "\n",
    "    x_train, y_train = [x[x_] for x_ in train_inds], [y[y_] for y_ in train_inds]\n",
    "    x_test,  y_test  = [x_ for x_ in x if x_ not in x_train], [y_ for y_ in y if y_ not in y_train]\n",
    "    \n",
    "    return x_train, y_train, x_test, y_test\n",
    "\n",
    "# noisy input data \n",
    "fig, ax = plt.subplots(figsize=(8,4))\n",
    "\n",
    "w1, w2 = 2,3\n",
    "\n",
    "x = np.random.rand(30)\n",
    "y = [linear_map(w1, w2, x_) + np.random.normal(0,.1) for x_ in x]\n",
    "\n",
    "x_train, y_train, x_test, y_test = data_split(x,y)\n",
    "\n",
    "\n",
    "ax.scatter(x_train, y_train)\n",
    "#ax.scatter(x_test, y_test)\n",
    "\n",
    "plt.show()"
   ]
  },
  {
   "cell_type": "markdown",
   "metadata": {},
   "source": [
    "## Analytical solution\n",
    "\n",
    "Using the least squares\n",
    "\n",
    "L = 1/N ( (t - Xw).T * (t - Xw) ) "
   ]
  },
  {
   "cell_type": "code",
   "execution_count": 39,
   "metadata": {
    "ExecuteTime": {
     "end_time": "2020-02-11T13:58:45.194819Z",
     "start_time": "2020-02-11T13:58:45.184204Z"
    }
   },
   "outputs": [
    {
     "name": "stdout",
     "output_type": "stream",
     "text": [
      "This should be small:  0.004795116577117648\n",
      "This should be large:  0.4027193496906409\n"
     ]
    }
   ],
   "source": [
    "def ls_loss(X, w, t):\n",
    "    N = len(X)\n",
    "    expr1 = t - np.matmul(X,w)\n",
    "    expr2 = t - np.matmul(X,w)\n",
    "    \n",
    "    loss = 1/N * (expr1.T * expr2)\n",
    "    \n",
    "    return np.sum(loss)\n",
    "\n",
    "X = np.array([(x,1) for x in x_train])\n",
    "t = np.array(y_train)\n",
    "\n",
    "\n",
    "## e.g.\n",
    "## the weights that generated the data should have a low loss\n",
    "print('This should be small: ', ls_loss(X,np.array([2,3]),t))\n",
    "\n",
    "# and different weights should have high loss\n",
    "print('This should be large: ', ls_loss(X,np.array([3,3]),t))"
   ]
  },
  {
   "cell_type": "markdown",
   "metadata": {},
   "source": [
    "The partial derivative wrt. w is:\n",
    "\n",
    "    = 2/N (X.T Xw) - 2/N X.T t\n",
    "    \n",
    "To find minima, we can equate this to 0:\n",
    "\n",
    "    0            = 2/N (X.T Xw) - 2/N X.T t\n",
    "    2/N (X.T Xw) = 2/N X.T t\n",
    "    (X.T Xw)     = X.T t\n",
    "              Iw = (X.T X)^(-1) X.T t\n",
    "             \n",
    "So we can analytically find the minima of this loss function:"
   ]
  },
  {
   "cell_type": "code",
   "execution_count": 51,
   "metadata": {
    "ExecuteTime": {
     "end_time": "2020-02-11T14:37:21.551243Z",
     "start_time": "2020-02-11T14:37:21.375963Z"
    }
   },
   "outputs": [
    {
     "name": "stdout",
     "output_type": "stream",
     "text": [
      "[1.95492999 3.00606675]\n"
     ]
    },
    {
     "data": {
      "image/png": "[encoded data removed]",
      "text/plain": [
       "<Figure size 576x288 with 1 Axes>"
      ]
     },
     "metadata": {},
     "output_type": "display_data"
    }
   ],
   "source": [
    "best_weights = np.matmul(np.linalg.inv(np.matmul(X.T, X)), np.matmul(X.T, t))\n",
    "print(best_weights)\n",
    "\n",
    "\n",
    "x = np.linspace(0,1,100)\n",
    "\n",
    "\n",
    "## plot the line \n",
    "fig, ax = plt.subplots(figsize=(8,4))\n",
    "\n",
    "ax.scatter(x_train, y_train, color='b', alpha=.5)\n",
    "ax.plot(x, linear_map(best_weights[0],best_weights[1], x), linestyle='--', color='r', alpha=.5)\n",
    "\n",
    "plt.show()"
   ]
  },
  {
   "cell_type": "markdown",
   "metadata": {},
   "source": [
    "## MML Treatment\n",
    "\n",
    "Given some inputs $x \\in {R}^{D} $ and associated labels $y \\in {R}^{D}$ we want to determine a function $y = f(x) + \\epsilon$.\n",
    "\n",
    "To score our function, we will calculate the likelihood of our data (based on our model):\n",
    "\n",
    "$$\n",
    "p(x | y) = \\mathcal{N}(y | f(x), \\sigma^2 )\n",
    "$$\n",
    "\n",
    "The likelihood is the PDF of $y$ evaluated at a specific $x^{\\top}\\theta$.\n"
   ]
  },
  {
   "cell_type": "code",
   "execution_count": 42,
   "metadata": {
    "ExecuteTime": {
     "end_time": "2020-02-07T15:41:06.320272Z",
     "start_time": "2020-02-07T15:41:06.313268Z"
    }
   },
   "outputs": [],
   "source": [
    "def least_squares(outputs, targets):\n",
    "    return ((np.sum(outputs - targets)**2))"
   ]
  },
  {
   "cell_type": "code",
   "execution_count": null,
   "metadata": {},
   "outputs": [],
   "source": []
  }
 ],
 "metadata": {
  "kernelspec": {
   "display_name": "Python 3",
   "language": "python",
   "name": "python3"
  },
  "language_info": {
   "codemirror_mode": {
    "name": "ipython",
    "version": 3
   },
   "file_extension": ".py",
   "mimetype": "text/x-python",
   "name": "python",
   "nbconvert_exporter": "python",
   "pygments_lexer": "ipython3",
   "version": "3.7.6"
  }
 },
 "nbformat": 4,
 "nbformat_minor": 4
}
