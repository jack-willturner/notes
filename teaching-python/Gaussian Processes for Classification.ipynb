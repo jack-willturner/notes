{
 "cells": [
  {
   "cell_type": "code",
   "execution_count": 1,
   "metadata": {
    "ExecuteTime": {
     "end_time": "2019-10-15T13:46:52.317880Z",
     "start_time": "2019-10-15T13:46:51.658969Z"
    }
   },
   "outputs": [],
   "source": [
    "import math\n",
    "import torch\n",
    "import gpytorch\n",
    "from matplotlib import pyplot as plt\n",
    "\n",
    "%matplotlib inline"
   ]
  },
  {
   "cell_type": "code",
   "execution_count": 18,
   "metadata": {
    "ExecuteTime": {
     "end_time": "2019-10-15T13:51:32.626951Z",
     "start_time": "2019-10-15T13:51:32.489445Z"
    }
   },
   "outputs": [
    {
     "data": {
      "image/png": "[encoded data removed]",
      "text/plain": [
       "<Figure size 792x360 with 1 Axes>"
      ]
     },
     "metadata": {
      "needs_background": "light"
     },
     "output_type": "display_data"
    }
   ],
   "source": [
    "train_x = torch.linspace(0, 1, 10)\n",
    "train_y = torch.sign(torch.cos(train_x * (4 * math.pi))).add(1).div(2)\n",
    "\n",
    "\n",
    "fig, ax = plt.subplots(figsize=(11,5))\n",
    "\n",
    "ax.plot(train_x.detach().numpy(), train_y.detach().numpy(), marker='o')\n",
    "\n",
    "ax.fill_between(train_x, 0.5, 1.0, alpha=0.2, color='blue')\n",
    "ax.fill_between(train_x, 0., 0.5, alpha=0.2, color='red')\n",
    "plt.show()"
   ]
  },
  {
   "cell_type": "code",
   "execution_count": 5,
   "metadata": {
    "ExecuteTime": {
     "end_time": "2019-10-15T13:47:42.964170Z",
     "start_time": "2019-10-15T13:47:42.649423Z"
    }
   },
   "outputs": [],
   "source": [
    "from gpytorch.models import AbstractVariationalGP\n",
    "from gpytorch.variational import CholeskyVariationalDistribution\n",
    "from gpytorch.variational import VariationalStrategy\n",
    "\n",
    "\n",
    "class GPClassificationModel(AbstractVariationalGP):\n",
    "    def __init__(self, train_x):\n",
    "        variational_distribution   = CholeskyVariationalDistribution(train_x.size(0))\n",
    "        variational_strategy       = VariationalStrategy(self, train_x, variational_distribution)\n",
    "        super(GPClassificationModel, self).__init__(variational_strategy)\n",
    "        self.mean_module           = gpytorch.means.ConstantMean()\n",
    "        self.covar_module          = gpytorch.kernels.ScaleKernel(gpytorch.kernels.RBFKernel())\n",
    "\n",
    "    def forward(self, x):\n",
    "        mean_x = self.mean_module(x)\n",
    "        covar_x = self.covar_module(x)\n",
    "        latent_pred = gpytorch.distributions.MultivariateNormal(mean_x, covar_x)\n",
    "        return latent_pred\n",
    "\n",
    "\n",
    "# Initialize model and likelihood\n",
    "model = GPClassificationModel(train_x)\n",
    "likelihood = gpytorch.likelihoods.BernoulliLikelihood()"
   ]
  },
  {
   "cell_type": "code",
   "execution_count": 19,
   "metadata": {
    "ExecuteTime": {
     "end_time": "2019-10-15T13:52:30.947570Z",
     "start_time": "2019-10-15T13:52:29.753448Z"
    }
   },
   "outputs": [
    {
     "name": "stdout",
     "output_type": "stream",
     "text": [
      "Iter 1/50 - Loss: 0.908\n",
      "Iter 2/50 - Loss: 5.447\n",
      "Iter 3/50 - Loss: 8.831\n",
      "Iter 4/50 - Loss: 3.976\n",
      "Iter 5/50 - Loss: 6.262\n",
      "Iter 6/50 - Loss: 7.334\n",
      "Iter 7/50 - Loss: 6.449\n",
      "Iter 8/50 - Loss: 4.526\n",
      "Iter 9/50 - Loss: 3.419\n",
      "Iter 10/50 - Loss: 3.036\n",
      "Iter 11/50 - Loss: 2.820\n",
      "Iter 12/50 - Loss: 2.658\n",
      "Iter 13/50 - Loss: 2.446\n",
      "Iter 14/50 - Loss: 2.139\n",
      "Iter 15/50 - Loss: 1.710\n",
      "Iter 16/50 - Loss: 1.537\n",
      "Iter 17/50 - Loss: 1.514\n",
      "Iter 18/50 - Loss: 1.507\n",
      "Iter 19/50 - Loss: 1.474\n",
      "Iter 20/50 - Loss: 1.430\n",
      "Iter 21/50 - Loss: 1.404\n",
      "Iter 22/50 - Loss: 1.396\n",
      "Iter 23/50 - Loss: 1.394\n",
      "Iter 24/50 - Loss: 1.389\n",
      "Iter 25/50 - Loss: 1.378\n",
      "Iter 26/50 - Loss: 1.359\n",
      "Iter 27/50 - Loss: 1.334\n",
      "Iter 28/50 - Loss: 1.304\n",
      "Iter 29/50 - Loss: 1.270\n",
      "Iter 30/50 - Loss: 1.235\n",
      "Iter 31/50 - Loss: 1.199\n",
      "Iter 32/50 - Loss: 1.165\n",
      "Iter 33/50 - Loss: 1.134\n",
      "Iter 34/50 - Loss: 1.108\n",
      "Iter 35/50 - Loss: 1.088\n",
      "Iter 36/50 - Loss: 1.074\n",
      "Iter 37/50 - Loss: 1.063\n",
      "Iter 38/50 - Loss: 1.051\n",
      "Iter 39/50 - Loss: 1.036\n",
      "Iter 40/50 - Loss: 1.016\n",
      "Iter 41/50 - Loss: 0.995\n",
      "Iter 42/50 - Loss: 0.974\n",
      "Iter 43/50 - Loss: 0.956\n",
      "Iter 44/50 - Loss: 0.940\n",
      "Iter 45/50 - Loss: 0.928\n",
      "Iter 46/50 - Loss: 0.917\n",
      "Iter 47/50 - Loss: 0.906\n",
      "Iter 48/50 - Loss: 0.896\n",
      "Iter 49/50 - Loss: 0.886\n",
      "Iter 50/50 - Loss: 0.876\n"
     ]
    }
   ],
   "source": [
    "from gpytorch.mlls.variational_elbo import VariationalELBO\n",
    "\n",
    "# Find optimal model hyperparameters\n",
    "model.train()\n",
    "likelihood.train()\n",
    "\n",
    "# Use the adam optimizer\n",
    "optimizer = torch.optim.Adam(model.parameters(), lr=0.1)\n",
    "\n",
    "# \"Loss\" for GPs - the marginal log likelihood\n",
    "# num_data refers to the amount of training data\n",
    "mll = VariationalELBO(likelihood, model, train_y.numel())\n",
    "\n",
    "training_iter = 50\n",
    "for i in range(training_iter):\n",
    "    # Zero backpropped gradients from previous iteration\n",
    "    optimizer.zero_grad()\n",
    "    # Get predictive output\n",
    "    output = model(train_x)\n",
    "    # Calc loss and backprop gradients\n",
    "    loss = -mll(output, train_y)\n",
    "    loss.backward()\n",
    "    print('Iter %d/%d - Loss: %.3f' % (i + 1, training_iter, loss.item()))\n",
    "    optimizer.step()"
   ]
  },
  {
   "cell_type": "code",
   "execution_count": 21,
   "metadata": {
    "ExecuteTime": {
     "end_time": "2019-10-15T13:52:55.936800Z",
     "start_time": "2019-10-15T13:52:55.753183Z"
    }
   },
   "outputs": [
    {
     "data": {
      "image/png": "[encoded data removed]",
      "text/plain": [
       "<Figure size 792x360 with 1 Axes>"
      ]
     },
     "metadata": {
      "needs_background": "light"
     },
     "output_type": "display_data"
    }
   ],
   "source": [
    "\n",
    "# Go into eval mode\n",
    "model.eval()\n",
    "likelihood.eval()\n",
    "\n",
    "with torch.no_grad():\n",
    "    # Test x are regularly spaced by 0.01 0,1 inclusive\n",
    "    test_x = torch.linspace(0, 1, 101)\n",
    "    # Get classification predictions\n",
    "    observed_pred = likelihood(model(test_x))\n",
    "\n",
    "    # Initialize fig and axes for plot\n",
    "    f, ax = plt.subplots(1, 1, figsize=(11, 5))\n",
    "    ax.plot(train_x.numpy(), train_y.numpy(), 'k*')\n",
    "    # Get the predicted labels (probabilites of belonging to the positive class)\n",
    "    # Transform these probabilities to be 0/1 labels\n",
    "    pred_labels = observed_pred.mean.ge(0.5).float()\n",
    "    ax.plot(test_x.numpy(), pred_labels.numpy(), 'b')\n",
    "    ax.set_ylim([-1, 2])\n",
    "    ax.legend(['Observed Data', 'Mean', 'Confidence'])"
   ]
  },
  {
   "cell_type": "code",
   "execution_count": null,
   "metadata": {},
   "outputs": [],
   "source": []
  }
 ],
 "metadata": {
  "kernelspec": {
   "display_name": "Python 3",
   "language": "python",
   "name": "python3"
  },
  "language_info": {
   "codemirror_mode": {
    "name": "ipython",
    "version": 3
   },
   "file_extension": ".py",
   "mimetype": "text/x-python",
   "name": "python",
   "nbconvert_exporter": "python",
   "pygments_lexer": "ipython3",
   "version": "3.7.3"
  }
 },
 "nbformat": 4,
 "nbformat_minor": 2
}
