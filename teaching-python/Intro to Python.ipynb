{
 "cells": [
  {
   "cell_type": "markdown",
   "metadata": {},
   "source": [
    "# Intro to Python\n"
   ]
  },
  {
   "cell_type": "code",
   "execution_count": 2,
   "metadata": {},
   "outputs": [
    {
     "name": "stdout",
     "output_type": "stream",
     "text": [
      "Hello, world!\n"
     ]
    }
   ],
   "source": [
    "print('Hello, world!')"
   ]
  },
  {
   "cell_type": "code",
   "execution_count": 3,
   "metadata": {},
   "outputs": [
    {
     "name": "stdout",
     "output_type": "stream",
     "text": [
      "5\n",
      "2\n"
     ]
    }
   ],
   "source": [
    "x = 5\n",
    "y = 2\n",
    "\n",
    "print(x)\n",
    "print(y)"
   ]
  },
  {
   "cell_type": "markdown",
   "metadata": {},
   "source": [
    "Variables can change their value as the program runs:"
   ]
  },
  {
   "cell_type": "code",
   "execution_count": 4,
   "metadata": {},
   "outputs": [
    {
     "name": "stdout",
     "output_type": "stream",
     "text": [
      "5\n",
      "10\n"
     ]
    }
   ],
   "source": [
    "x = 5 \n",
    "print(x)\n",
    "x = 10\n",
    "print(x)"
   ]
  },
  {
   "cell_type": "markdown",
   "metadata": {},
   "source": [
    "Python also gives us a few basic maths operators:\n",
    "\n",
    "| Symbol | Task Performed |\n",
    "|----|---|\n",
    "| +  | Addition |\n",
    "| -  | Subtraction |\n",
    "| /  | division |\n",
    "| *  | multiplication |\n",
    "| **  | to the power of |\n",
    "| <  | less than | \n",
    "| >  | greater than |\n",
    "| == | equal to | "
   ]
  },
  {
   "cell_type": "code",
   "execution_count": 7,
   "metadata": {},
   "outputs": [
    {
     "name": "stdout",
     "output_type": "stream",
     "text": [
      "12\n",
      "8\n",
      "5.0\n",
      "20\n",
      "100\n",
      "False\n"
     ]
    }
   ],
   "source": [
    "x = 10\n",
    "y = 2\n",
    "print(x+y)\n",
    "print(x-y)\n",
    "print(x/y)\n",
    "print(x*y)\n",
    "print(x**2)\n",
    "print(x==y)"
   ]
  },
  {
   "cell_type": "markdown",
   "metadata": {},
   "source": [
    "### Exercise 1\n",
    "\n",
    "Define a new variable called `z` with the value 15. Compare it to y with `<` and `>` and print the outputs."
   ]
  },
  {
   "cell_type": "code",
   "execution_count": null,
   "metadata": {
    "collapsed": true
   },
   "outputs": [],
   "source": [
    "# your code goes here"
   ]
  },
  {
   "cell_type": "markdown",
   "metadata": {},
   "source": [
    "To store more complicated things, Python has a few built in datatypes. The most important datatype is the `List`. We initialise a list with `[]`, and can add things to the list with `.append`. The syntax is as follows:\n",
    "\n",
    "```\n",
    "list.append(value)\n",
    "```\n",
    "\n",
    "The `.` tells Python to apply the function `append` to the `list`. The function `append` takes an _argument_, which tells Python exactly what to append on to the end of the list. "
   ]
  },
  {
   "cell_type": "code",
   "execution_count": 10,
   "metadata": {},
   "outputs": [
    {
     "name": "stdout",
     "output_type": "stream",
     "text": [
      "['apple', 'orange']\n"
     ]
    }
   ],
   "source": [
    "x = []\n",
    "x.append('apple')\n",
    "x.append('orange')\n",
    "print(x)"
   ]
  },
  {
   "cell_type": "code",
   "execution_count": 12,
   "metadata": {},
   "outputs": [
    {
     "name": "stdout",
     "output_type": "stream",
     "text": [
      "['apple', 'orange']\n"
     ]
    }
   ],
   "source": [
    "y = []\n",
    "y = ['apple', 'orange']\n",
    "print(y)"
   ]
  },
  {
   "cell_type": "markdown",
   "metadata": {},
   "source": [
    "### Exercise 2\n",
    "\n",
    "Create a new list. Create a couple of new variables and append them to your list. "
   ]
  },
  {
   "cell_type": "code",
   "execution_count": 13,
   "metadata": {
    "collapsed": true
   },
   "outputs": [],
   "source": [
    "# your code goes here"
   ]
  },
  {
   "cell_type": "markdown",
   "metadata": {},
   "source": [
    "`append` is an example of one of Python's built-in functions. Python has another built-in function called `sort` - the only difference is that you don't need to pass any arguments to it. Use it to sort your list in numerical order:"
   ]
  },
  {
   "cell_type": "code",
   "execution_count": 19,
   "metadata": {
    "collapsed": true
   },
   "outputs": [],
   "source": [
    "# your code goes here"
   ]
  },
  {
   "cell_type": "markdown",
   "metadata": {},
   "source": [
    "Once we have a list, we'd like a way to fetch elements from it. We can fetch specific elements using an `index`. The index of a list starts at 0, so if we want to get the first element of a list called `x` then we say `first_element = x[0]`. \n",
    "\n",
    "### Exercise 3\n",
    "\n",
    "Create a new list and print each value of the list by indexing it."
   ]
  },
  {
   "cell_type": "code",
   "execution_count": null,
   "metadata": {
    "collapsed": true
   },
   "outputs": [],
   "source": [
    "# your code goes here"
   ]
  },
  {
   "cell_type": "markdown",
   "metadata": {},
   "source": [
    "## Defining your own functions\n",
    "\n",
    "As well as having some built-in functions, Python also lets us define our own functions using `def`."
   ]
  },
  {
   "cell_type": "code",
   "execution_count": 22,
   "metadata": {},
   "outputs": [
    {
     "name": "stdout",
     "output_type": "stream",
     "text": [
      "8\n"
     ]
    }
   ],
   "source": [
    "def add(num_1,num_2):\n",
    "    return num_1 + num_2\n",
    "\n",
    "x = 5\n",
    "y = 3 \n",
    "\n",
    "print(add(x,y))"
   ]
  },
  {
   "cell_type": "markdown",
   "metadata": {},
   "source": [
    "### Exercise 4\n",
    "Define a function `subtract` that takes in two arguments and subtracts the second one from the first one. "
   ]
  },
  {
   "cell_type": "code",
   "execution_count": 23,
   "metadata": {
    "collapsed": true
   },
   "outputs": [],
   "source": [
    "# your code goes here "
   ]
  },
  {
   "cell_type": "markdown",
   "metadata": {},
   "source": [
    "### Exercise 5\n",
    "\n",
    "Define a function `square` that takes a single argument and raises it to the power of two. "
   ]
  },
  {
   "cell_type": "code",
   "execution_count": 24,
   "metadata": {
    "collapsed": true
   },
   "outputs": [],
   "source": [
    "# your code goes here"
   ]
  },
  {
   "cell_type": "markdown",
   "metadata": {
    "collapsed": true
   },
   "source": [
    "## Control Flow\n",
    "\n",
    "So far the programs we have written have been evaluated from top to bottom: \n",
    "\n",
    "```\n",
    "   1: x = 5\n",
    "   2: y = 2\n",
    "   3: z = x + y\n",
    "```\n",
    "\n",
    "In order to execute the above program, Python keeps an _instruction pointer_ (`>`) which tells it which line to execute next. So, at timestep one, the instruction pointer points at line 1:\n",
    "\n",
    "```\n",
    "> 1: x = 5\n",
    "  2: y = 2\n",
    "  3: z = x + y\n",
    "```\n",
    "\n",
    "This tells Python to store the value 5 into a box named x. Then at step two, the instruction pointer shifts down:\n",
    "```\n",
    "  1: x = 5\n",
    "> 2: y = 2\n",
    "  3: z = x + y\n",
    "```\n",
    "\n",
    "And at step 3:\n",
    "\n",
    "```\n",
    "  1: x = 5\n",
    "  2: y = 2\n",
    "> 3: z = x + y\n",
    "```\n",
    "\n",
    "The movement of our pointer `>` is called control flow. There are some cases where we might not want linear control (where each step is executed one after another, top to bottom, all the way down). For example, say we have a list `x = [1,2,3]` and we'd like to multiply every element in the list by 2. Rather than write out a series of instructions:\n"
   ]
  },
  {
   "cell_type": "code",
   "execution_count": 34,
   "metadata": {},
   "outputs": [
    {
     "name": "stdout",
     "output_type": "stream",
     "text": [
      "[2, 4, 6, 8, 10]\n"
     ]
    }
   ],
   "source": [
    "x = [1,2,3,4,5]\n",
    "\n",
    "x[0] = x[0] * 2\n",
    "x[1] = x[1] * 2\n",
    "x[2] = x[2] * 2\n",
    "x[3] = x[3] * 2\n",
    "x[4] = x[4] * 2\n",
    "\n",
    "print(x)"
   ]
  },
  {
   "cell_type": "markdown",
   "metadata": {},
   "source": [
    "Python gives us a way to _loop_ over lists of arbitrary length and apply a function of our choice."
   ]
  },
  {
   "cell_type": "code",
   "execution_count": 37,
   "metadata": {},
   "outputs": [
    {
     "name": "stdout",
     "output_type": "stream",
     "text": [
      "[2, 4, 6, 8, 10]\n"
     ]
    }
   ],
   "source": [
    "x = [1,2,3,4,5]\n",
    "\n",
    "for i in [0,1,2,3,4]:\n",
    "    x[i] = x[i] * 2\n",
    "    \n",
    "print(x)"
   ]
  },
  {
   "cell_type": "markdown",
   "metadata": {},
   "source": [
    "Remember that we are index the list starting from zero. When the instruction pointer reaches the bottom of the indented section, it returns back to the `for` condition and checks whether or not it has been satisfied. In this case Python checks whether it has used all of the indices in our list. \n",
    "\n",
    "It's tedious to have to write out all of the indices we want to use though (in the above case, we had to write out `[0,1,2,3,4]`, imagine if our list had 1000 elements) . Python gives us some more built-in functions to make this easier. Before you run the below cells, can you guess what they do?"
   ]
  },
  {
   "cell_type": "code",
   "execution_count": null,
   "metadata": {
    "collapsed": true
   },
   "outputs": [],
   "source": [
    "for i in range(5):\n",
    "    print(i)"
   ]
  },
  {
   "cell_type": "code",
   "execution_count": null,
   "metadata": {
    "collapsed": true
   },
   "outputs": [],
   "source": [
    "print(len(x))"
   ]
  },
  {
   "cell_type": "markdown",
   "metadata": {},
   "source": [
    "### Exercise 6\n",
    "Given the list `x = [1,2,3,4,5]`, write a for loop that multiplies each element in the list by two. Using the functions `len` and `range`."
   ]
  },
  {
   "cell_type": "code",
   "execution_count": null,
   "metadata": {
    "collapsed": true
   },
   "outputs": [],
   "source": [
    "x = [1,2,3,4,5]\n",
    "\n",
    "# your code goes here\n",
    "\n",
    "print(x)"
   ]
  },
  {
   "cell_type": "markdown",
   "metadata": {},
   "source": [
    "### Exercise 7 \n",
    "Rewrite your above cell, but this time make the code inside the for loops call a _function_ that multiplies a given element by 2. "
   ]
  },
  {
   "cell_type": "code",
   "execution_count": null,
   "metadata": {
    "collapsed": true
   },
   "outputs": [],
   "source": [
    "x = [1,2,3,4,5]\n",
    "\n",
    "def multiply_by_two(elem):\n",
    "    # your code goes here\n",
    "    \n",
    "# your code goes here\n",
    "\n",
    "print(X)"
   ]
  },
  {
   "cell_type": "markdown",
   "metadata": {},
   "source": [
    "Sometimes we might also want to only apply a line of code if certain conditions hold. For this we can use python's `if` statement:"
   ]
  },
  {
   "cell_type": "code",
   "execution_count": 39,
   "metadata": {},
   "outputs": [
    {
     "name": "stdout",
     "output_type": "stream",
     "text": [
      "x is greater than y\n"
     ]
    }
   ],
   "source": [
    "x = 5\n",
    "y = 2\n",
    "\n",
    "if x > y:\n",
    "    print('x is greater than y')\n",
    "    \n",
    "if x < y:\n",
    "    print('x is less than y') # <- this line of code doesn't get executed"
   ]
  },
  {
   "cell_type": "markdown",
   "metadata": {},
   "source": [
    "### Exercise 8\n",
    "\n",
    "Write a function that only multiplies elements of a list by two if they are greater than 3."
   ]
  },
  {
   "cell_type": "code",
   "execution_count": null,
   "metadata": {
    "collapsed": true
   },
   "outputs": [],
   "source": [
    "x = [1,2,3,4,5] # only 4 and 5 should be multiplied by two\n",
    "\n",
    "# your code goes here\n",
    "\n",
    "print(x)"
   ]
  },
  {
   "cell_type": "code",
   "execution_count": null,
   "metadata": {
    "collapsed": true
   },
   "outputs": [],
   "source": []
  }
 ],
 "metadata": {
  "kernelspec": {
   "display_name": "Python 3",
   "language": "python",
   "name": "python3"
  },
  "language_info": {
   "codemirror_mode": {
    "name": "ipython",
    "version": 3
   },
   "file_extension": ".py",
   "mimetype": "text/x-python",
   "name": "python",
   "nbconvert_exporter": "python",
   "pygments_lexer": "ipython3",
   "version": "3.6.8"
  }
 },
 "nbformat": 4,
 "nbformat_minor": 2
}
