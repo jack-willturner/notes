{
 "cells": [
  {
   "cell_type": "markdown",
   "id": "brown-cocktail",
   "metadata": {},
   "source": [
    "# Linear Regression Both Ways\n",
    "\n",
    "A dummy dataset:"
   ]
  },
  {
   "cell_type": "code",
   "execution_count": 1,
   "id": "precious-astrology",
   "metadata": {},
   "outputs": [
    {
     "data": {
      "image/png": "[encoded data removed]",
      "text/plain": [
       "<Figure size 720x360 with 1 Axes>"
      ]
     },
     "metadata": {
      "needs_background": "light"
     },
     "output_type": "display_data"
    }
   ],
   "source": [
    "%matplotlib inline\n",
    "\n",
    "import numpy as np\n",
    "import matplotlib.pyplot as plt\n",
    "plt.style.use('science')\n",
    "np.random.seed(1)\n",
    "\n",
    "X_train = np.linspace(0,10,100)\n",
    "noise = np.random.normal(0,2,100)\n",
    "y_train = X_train + noise\n",
    "\n",
    "fig, ax = plt.subplots(figsize=(10,5))\n",
    "ax.scatter(X_train,y_train, marker='x');\n",
    "\n",
    "plt.savefig(\"dataset\")"
   ]
  },
  {
   "cell_type": "markdown",
   "id": "competent-robert",
   "metadata": {},
   "source": [
    "We can define a linear model as:"
   ]
  },
  {
   "cell_type": "code",
   "execution_count": 2,
   "id": "reduced-extreme",
   "metadata": {},
   "outputs": [
    {
     "data": {
      "image/png": "[encoded data removed]",
      "text/plain": [
       "<Figure size 720x360 with 1 Axes>"
      ]
     },
     "metadata": {
      "needs_background": "light"
     },
     "output_type": "display_data"
    }
   ],
   "source": [
    "class Linear():\n",
    "    theta = [0., 0.]\n",
    "    \n",
    "    def __call__(self, x):\n",
    "        return np.sum(self.theta*x, axis=1)\n",
    "\n",
    "model = Linear()\n",
    "X = np.c_[np.ones(X_train.shape), X_train]\n",
    "\n",
    "fig, ax = plt.subplots(figsize=(10,5))\n",
    "ax.scatter(X_train,y_train, marker='x')\n",
    "ax.plot(X_train, model(X), color='red');"
   ]
  },
  {
   "cell_type": "markdown",
   "id": "selective-polish",
   "metadata": {},
   "source": [
    "And the OLS loss function:\n",
    "\n",
    "loss $ \\mathcal{L} = (h_{\\theta}(x) - y)^2$"
   ]
  },
  {
   "cell_type": "code",
   "execution_count": 3,
   "id": "coordinate-device",
   "metadata": {},
   "outputs": [
    {
     "data": {
      "text/plain": [
       "3898.7122407196885"
      ]
     },
     "execution_count": 3,
     "metadata": {},
     "output_type": "execute_result"
    }
   ],
   "source": [
    "def OLS(model, x, y):\n",
    "    preds = model(x)\n",
    "    return np.sum((preds - y)**2)\n",
    "\n",
    "OLS(model, X, y_train)"
   ]
  },
  {
   "cell_type": "markdown",
   "id": "eight-minneapolis",
   "metadata": {},
   "source": [
    "We want this cost value to be as low as possible. We can minimise the cost in two ways:\n",
    "1. gradient descent\n",
    "2. the normal equations\n",
    "\n",
    "## Method 1: Gradient Descent\n",
    "\n",
    "The gradient update rule is:  \n",
    "\n",
    "$$\n",
    "\\theta_j := \\theta_j - \\alpha \\frac{\\partial}{\\partial \\theta_j}\\mathcal{L}(\\theta)\n",
    "$$\n",
    "\n",
    "To recap. We are making predictions $h_{\\theta}(x)$ on $x$ with targets $y$. The loss is the squared difference between our prediction and the target: \n",
    "\n",
    "loss $ \\mathcal{L} = (h_{\\theta}(x) - y)^2$\n",
    "\n",
    "### Taking the derivative of $\\mathcal{L}$ wrt. $\\theta_j$\n",
    "\n",
    "We have a matrix $X$ of training examples so we can rewrite this as:\n",
    "\n",
    "$\\mathcal{L} = (X\\theta - y)^\\top(X\\theta -y)$\n",
    "\n",
    "We want the gradient $\\nabla_{\\theta}$ wrt. the loss:  \n",
    "\n",
    "\n",
    "$\n",
    "\\begin{align}\n",
    "\\frac{\\partial \\theta}{\\partial \\mathcal{L}} & = \\nabla_{\\theta} \\big[ (X\\theta - y)^\\top(X\\theta - y) \\big] \\\\\n",
    "\\end{align}\n",
    "$\n",
    "\n",
    "Before we take any gradients we can start with some rearranging:\n",
    "\n",
    "$\n",
    "= \\nabla_{\\theta} \\big[ (X\\theta)^\\top X\\theta - \\color{teal}{(X\\theta)^\\top y} - y^\\top(X\\theta) - y^\\top y\\big]\n",
    "$\n",
    "\n",
    "Now we know that $a^{\\top}b = b^{\\top}a$ so we can rewrite the expression $\\color{teal}{(X\\theta)^\\top y}$ as $y^\\top(X\\theta)$.\n",
    "\n",
    "$\n",
    "\\begin{align}\n",
    "& = \\nabla_{\\theta} \\big[ (X\\theta)^{\\top} X\\theta - 2y^\\top(X\\theta) - y^\\top y \\big] \\\\\n",
    "\\end{align}\n",
    "$\n",
    "\n",
    "\n",
    "The term $y^\\top (X\\theta)$ can be rearranged as $(X^\\top y)^\\top \\theta$ (this can be verified by drawing out the row and column pictures as explained [here](http://cs229.stanford.edu/notes2020fall/notes2020fall/TA-slides1.pdf)).\n",
    "\n",
    "\n",
    "So we're left with:\n",
    "\n",
    "$\n",
    "\\begin{align}\n",
    "& = \\nabla_{\\theta} \\big[ (X\\theta)^{\\top} X\\theta - 2(X^\\top y)^\\top \\theta - y^\\top y \\big] \\\\\n",
    "& = \\nabla_{\\theta} \\big[ \\theta^\\top (X^\\top X)\\theta - 2(X^\\top y)^\\top \\theta  - y^\\top y \\big]\n",
    "\\end{align}\n",
    "$\n",
    "\n",
    "Now we can take gradients. First step: remove $y^\\top y$ because we're taking the gradient wrt. $\\theta$ and that term doesn't involve $\\theta$ at all:\n",
    "\n",
    "$\n",
    "\\begin{align}\n",
    "& = \\nabla_{\\theta} \\big[ \\theta^\\top (X^\\top X)\\theta - 2(X^\\top y)^\\top \\theta]\n",
    "\\end{align}\n",
    "$\n",
    "\n",
    "Now we just have two terms to take the gradients of.\n",
    "\n",
    "There are two gradient rules to memorise:  \n",
    "\n",
    "**Magic rule 1**\n",
    "$\n",
    "\\begin{align}\n",
    "& \\color{teal}{\\nabla_{\\theta} a^\\top \\theta = a} \\\\\n",
    "\\end{align}\n",
    "$\n",
    "\n",
    "**Magic rule 2**\n",
    "$\n",
    "\\begin{align}\n",
    "& \\color{violet}{\\nabla_\\theta \\theta^\\top A \\theta = 2A\\theta} \\\\\n",
    "\\end{align}\n",
    "$\n",
    "\n",
    "$\n",
    "\\begin{align}\n",
    "& = \\nabla_\\theta \\big[ \\color{violet}{\\theta^\\top (X^\\top X)\\theta} - \\color{teal}{2(X^\\top y)^\\top \\theta}\\big] \\\\\n",
    "& = \\color{violet}{2 (X^\\top X)\\theta} - \\color{teal}{2(X^\\top y)} \\\\\n",
    "& = \\color{violet}{(X^\\top X)\\theta} - \\color{teal}{X^\\top y} \\\\\n",
    "\\end{align}\n",
    "$"
   ]
  },
  {
   "cell_type": "code",
   "execution_count": 4,
   "id": "absolute-rebecca",
   "metadata": {},
   "outputs": [
    {
     "data": {
      "image/png": "[encoded data removed]",
      "text/plain": [
       "<Figure size 720x360 with 2 Axes>"
      ]
     },
     "metadata": {
      "needs_background": "light"
     },
     "output_type": "display_data"
    }
   ],
   "source": [
    "class Linear():\n",
    "    # note because we sum over all the examples\n",
    "    # we need a smol learning rate\n",
    "    alpha = 1e-4\n",
    "    theta = np.array([0., 0.])\n",
    "\n",
    "    def update(self, X, y):\n",
    "        grads = (X.T @ X) @ self.theta - X.T @ y\n",
    "        self.theta = self.theta - self.alpha * grads\n",
    "        \n",
    "    def __call__(self, X):   \n",
    "        self.preds = np.einsum('ij, j -> i', X, self.theta)\n",
    "        return self.preds\n",
    "    \n",
    "def train(x, y, model, epochs):\n",
    "    costs = []\n",
    "    for epoch in range(epochs):\n",
    "        preds = model(x)\n",
    "        costs.append(OLS(model,x,y))\n",
    "        model.update(x,y)\n",
    "    return costs\n",
    "\n",
    "x = X\n",
    "y = y_train\n",
    "model = Linear()\n",
    "epochs = 50\n",
    "\n",
    "costs = train(x,y,model,epochs=epochs)\n",
    "\n",
    "fig, ax = plt.subplots(1,2,figsize=(10,5))\n",
    "ax[0].plot(np.arange(epochs), costs)\n",
    "ax[1].scatter(X_train,y_train, marker='x')\n",
    "ax[1].plot(X_train, model(X), color='red');"
   ]
  },
  {
   "cell_type": "markdown",
   "id": "interstate-independence",
   "metadata": {},
   "source": [
    "## Method 2: normal equations\n",
    "\n",
    "We can also solve this particular setup analytically via the usual way:\n",
    "1. take the derivative of $\\mathcal{L}$ wrt. $\\theta$\n",
    "2. solve for derivative $=0$ \n",
    "\n",
    "In the case of linear regression there is only one solution (where the gradient = 0) so we know this will be where the loss is minimal.\n",
    "\n",
    "### Step 1: Take the derivative of $\\mathcal{L}$ wrt. $\\theta$\n",
    "\n",
    "We actually already have this from earlier, it's:\n",
    "\n",
    "$\n",
    "\\nabla_\\theta = (X^\\top X)\\theta - X^\\top y\n",
    "$\n",
    "\n",
    "### Step 2:  Solve for derivative equal to 0:\n",
    "\n",
    "$\n",
    "\\begin{align}\n",
    "0 & = (X^\\top X)\\theta - X^\\top y\\\\\n",
    "(X^\\top X)\\theta & = X^\\top y\\\\\n",
    "\\theta & = (X^\\top X)^{-1} X^\\top y\\\\\n",
    "\\end{align}\n",
    "$\n",
    "\n"
   ]
  },
  {
   "cell_type": "code",
   "execution_count": 5,
   "id": "everyday-elephant",
   "metadata": {},
   "outputs": [
    {
     "data": {
      "image/png": "[encoded data removed]",
      "text/plain": [
       "<Figure size 720x360 with 1 Axes>"
      ]
     },
     "metadata": {
      "needs_background": "light"
     },
     "output_type": "display_data"
    }
   ],
   "source": [
    "class Linear():\n",
    "    theta = [0., 0.]\n",
    "    \n",
    "    def fit(self, X, y):\n",
    "        self.theta = np.linalg.inv(X.T@X) @ np.dot(X.T, y)\n",
    "\n",
    "    def __call__(self, x):\n",
    "        self.preds = np.einsum('ij, j -> i', X, self.theta)\n",
    "        return self.preds\n",
    "        \n",
    "model = Linear()\n",
    "model.fit(x, y)\n",
    "\n",
    "fig, ax = plt.subplots(figsize=(10,5))\n",
    "ax.scatter(X_train,y_train, marker='x')\n",
    "ax.plot(X_train, model(X), color='red');"
   ]
  }
 ],
 "metadata": {
  "kernelspec": {
   "display_name": "Python 3",
   "language": "python",
   "name": "python3"
  },
  "language_info": {
   "codemirror_mode": {
    "name": "ipython",
    "version": 3
   },
   "file_extension": ".py",
   "mimetype": "text/x-python",
   "name": "python",
   "nbconvert_exporter": "python",
   "pygments_lexer": "ipython3",
   "version": "3.8.10"
  }
 },
 "nbformat": 4,
 "nbformat_minor": 5
}
