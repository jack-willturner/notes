{
 "cells": [
  {
   "cell_type": "code",
   "execution_count": null,
   "id": "sunset-illness",
   "metadata": {},
   "outputs": [],
   "source": [
    "import numpy as np\n",
    "import matplotlib.pyplot as plt\n",
    "\n",
    "from matplotlib import animation, rc\n",
    "from IPython.display import HTML\n",
    "\n",
    "\n",
    "# First set up the figure, the axis, and the plot element we want to animate\n",
    "fig, ax = plt.subplots(figsize=(10,5))\n",
    "\n",
    "model = Linear()\n",
    "\n",
    "line, = ax.plot([], [], lw=2, color='red')\n",
    "\n",
    "# initialization function: plot the background of each frame\n",
    "def init():\n",
    "    ax.scatter(X_train, y_train, marker='x', color='blue', alpha=.7)\n",
    "    line.set_data([], [])\n",
    "    return (line,)\n",
    "\n",
    "# animation function. This is called sequentially\n",
    "def animate(i):\n",
    "    preds = model(x)\n",
    "    model.update(x, y)\n",
    "    \n",
    "    line.set_data(X_train, preds)\n",
    "    \n",
    "    return (line,)\n",
    "\n",
    "# call the animator. blit=True means only re-draw the parts that have changed.\n",
    "anim = animation.FuncAnimation(fig, animate, init_func=init,\n",
    "                               frames=30, interval=1, blit=True)\n",
    "\n",
    "# anim.save('lin_reg.gif', writer='imagemagick', fps=60)\n",
    "\n"
   ]
  }
 ],
 "metadata": {
  "kernelspec": {
   "display_name": "Python 3",
   "language": "python",
   "name": "python3"
  },
  "language_info": {
   "codemirror_mode": {
    "name": "ipython",
    "version": 3
   },
   "file_extension": ".py",
   "mimetype": "text/x-python",
   "name": "python",
   "nbconvert_exporter": "python",
   "pygments_lexer": "ipython3",
   "version": "3.8.6"
  }
 },
 "nbformat": 4,
 "nbformat_minor": 5
}
